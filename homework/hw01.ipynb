{
  "cells": [
    {
      "cell_type": "markdown",
      "metadata": {
        "vscode": {
          "languageId": "plaintext"
        },
        "id": "cIq6EAzKArJ9"
      },
      "source": [
        "# Homework 1\n",
        "\n"
      ]
    },
    {
      "cell_type": "markdown",
      "metadata": {
        "id": "xAaIlZGZArKA"
      },
      "source": [
        "### Instructions\n",
        "Download this jupyer notebook (button at the top of the page or download from the Github repository). Provide your answers as Markdown text, Python code, and/or produce plots as appropriate. The notebook should run all the cells in order without errors.  \n",
        "Submit both the `.ipynb` and a `.pdf` to Canvas.\n",
        "\n",
        "Make sure the `.pdf` has all the relevant outputs showing. To save as `.pdf` you can first export the notebook as `.html`, open it in a browers and then \"Print to PDF\".\n",
        "\n",
        "**NOTE:** As we will be sharing the files for peer grading, please keep your submission anonymous."
      ]
    },
    {
      "cell_type": "code",
      "execution_count": 4,
      "metadata": {
        "id": "eOPilal8ArKA"
      },
      "outputs": [],
      "source": [
        "import abc\n",
        "from typing import Callable\n",
        "import jax\n",
        "import jax.numpy as jnp\n",
        "import matplotlib.pyplot as plt\n",
        "import numpy as np\n",
        "import functools\n",
        "import cvxpy as cp"
      ]
    },
    {
      "cell_type": "markdown",
      "metadata": {
        "id": "YwgpNKZQArKB"
      },
      "source": [
        "## Problem 1\n",
        "In this problem, you will familiarize yourself with the basic operations with dynamical systems and useful JAX operations.\n",
        "\n",
        "Given the following dynamics class below."
      ]
    },
    {
      "cell_type": "code",
      "execution_count": 5,
      "metadata": {
        "id": "npJTteQNArKB"
      },
      "outputs": [],
      "source": [
        "class Dynamics(metaclass=abc.ABCMeta):     #This specifies that the abc.ABCMeta is an upper level class of the Dynamics class and inherits some of its properties.\n",
        "    dynamics_func: Callable                 #The next three lines are purely here for annotation purposes.\n",
        "    state_dim: int\n",
        "    control_dim: int\n",
        "\n",
        "    def __init__(self, dynamics_func, state_dim, control_dim):\n",
        "        self.dynamics_func = dynamics_func\n",
        "        self.state_dim = state_dim\n",
        "        self.control_dim = control_dim\n",
        "\n",
        "    def __call__(self, state, control, time=0):  #This dunder function allows to call the instance like a function made use in the eg: Euler function.\n",
        "        return self.dynamics_func(state, control, time)"
      ]
    },
    {
      "cell_type": "markdown",
      "metadata": {
        "id": "G9B9gzQqArKC"
      },
      "source": [
        "### (a) Setting up dynamics\n",
        "Using the `Dynamics` class, construct the continuous time dynamics for the dynamically extended unicycle model.\n",
        "\n",
        "$$\n",
        "    \\dot{\\mathbf{x}} = \\begin{bmatrix}\n",
        "        \\dot{x} \\\\ \\dot{y} \\\\ \\dot{\\theta} \\\\ \\dot{v}\n",
        "    \\end{bmatrix} = \\begin{bmatrix}\n",
        "        v\\cos\\theta \\\\ v\\sin\\theta \\\\ \\omega \\\\ a\n",
        "    \\end{bmatrix}, \\qquad u=(\\omega, a)\n",
        "$$"
      ]
    },
    {
      "cell_type": "code",
      "execution_count": 6,
      "metadata": {
        "id": "bx85UW4dArKC"
      },
      "outputs": [],
      "source": [
        "def dynamic_unicycle_ode(state, control, time):\n",
        "\n",
        "    xdot_vec=[state[3]*jnp.cos(state[2]),state[3]*jnp.sin(state[2]),control[0],control[1]]\n",
        "    xdot_vec=jnp.array(xdot_vec)\n",
        "    return xdot_vec\n",
        "\n",
        "\n",
        "state_dim = 4\n",
        "control_dim = 2\n",
        "continuous_dynamics = Dynamics(dynamic_unicycle_ode, state_dim, control_dim)"
      ]
    },
    {
      "cell_type": "markdown",
      "metadata": {
        "id": "XAf3AgdrArKC"
      },
      "source": [
        "### (b) Obtaining discrete-time dynamics\n",
        "\n",
        "With the continuous time dynamics, we can obtain the discrete time dynamics by integrating over a time step $\\Delta t$.\n",
        "\n",
        "Implement both Euler integation and Runge-Kutta integration to obtain the discrete-time dynamics."
      ]
    },
    {
      "cell_type": "code",
      "execution_count": 7,
      "metadata": {
        "id": "wlN3gaWqArKD"
      },
      "outputs": [],
      "source": [
        "def euler_integrate(dynamics, dt):\n",
        "    # zero-order hold\n",
        "    def integrator(x, u, t):\n",
        "        x_next=dt*dynamics(x,u,t)+x\n",
        "        #print(x_next.shape)\n",
        "        #print(dynamics(x,u,t).shape)\n",
        "        return x_next\n",
        "    return integrator                    #This returns the function itself\n",
        "\n",
        "\n",
        "\n",
        "def runge_kutta_integrator(dynamics, dt=0.1):\n",
        "    # zero-order hold\n",
        "    def integrator(x, u, t):\n",
        "        f1=dynamics(x,u,t)\n",
        "        f2=dynamics(x+dt/2*f1,u,t+dt/2)\n",
        "        x_next=x+dt*f2\n",
        "        return x_next\n",
        "\n",
        "    return integrator"
      ]
    },
    {
      "cell_type": "code",
      "execution_count": 8,
      "metadata": {
        "id": "zjTZv86sArKD"
      },
      "outputs": [],
      "source": [
        "# example usage of the integrators\n",
        "\n",
        "dt = 0.1 # timestep size\n",
        "\n",
        "discrete_dynamics_euler = Dynamics(\n",
        "    euler_integrate(continuous_dynamics, dt), state_dim, control_dim\n",
        ")\n",
        "discrete_dynamics_rk = Dynamics(\n",
        "    runge_kutta_integrator(continuous_dynamics, dt), state_dim, control_dim\n",
        ")"
      ]
    },
    {
      "cell_type": "markdown",
      "metadata": {
        "id": "LdZRMbqqArKE"
      },
      "source": [
        "### (c) Simulating dynamics\n",
        "\n",
        "Simulate your dynamics over 5 seconds for different values of $\\Delta t$ and compare the trajectories.\n",
        "\n",
        "Show on the same plot, the simulated trajectories for the following cases:\n",
        "- Discrete-time dynamics with Euler integration, $\\Delta t = 0.01$\n",
        "- Discrete-time dynamics with Euler integration, $\\Delta t = 0.5$\n",
        "- Discrete-time dynamics with RK integration, $\\Delta t = 0.01$\n",
        "- Discrete-time dynamics with RK integration, $\\Delta t = 0.5$\n",
        "\n",
        "How does the choice of integration scheme and time step size influence the resulting trajectories? Feel free to try different time step values, but you don't need to submit plots of them."
      ]
    },
    {
      "cell_type": "code",
      "execution_count": 25,
      "metadata": {
        "colab": {
          "base_uri": "https://localhost:8080/",
          "height": 466
        },
        "id": "dN-G06APArKE",
        "outputId": "bcec7af7-5773-4dab-a4dc-3650c3fe4f41"
      },
      "outputs": [
        {
          "output_type": "execute_result",
          "data": {
            "text/plain": [
              "Text(0, 0.5, 'y [m]')"
            ]
          },
          "metadata": {},
          "execution_count": 25
        },
        {
          "output_type": "display_data",
          "data": {
            "text/plain": [
              "<Figure size 640x480 with 1 Axes>"
            ],
            "image/png": "[encoded data removed]"
          },
          "metadata": {}
        }
      ],
      "source": [
        "def simulate(dynamics, initial_state, controls, dt):\n",
        "    steps=len(controls)\n",
        "    num_states=len(initial_state)\n",
        "    X_lst=jnp.zeros((num_states,steps+1))      ##Maybe the error is using a np array instead of jnp?\n",
        "    X_lst = X_lst.at[:, 0].set(initial_state)\n",
        "    for i in range(steps):\n",
        "      #print(controls[i].shape)\n",
        "      #print(X_lst[:,i].shape)\n",
        "      #print(type(X_lst))\n",
        "      newstate=dynamics(X_lst[:, i], controls[i], i * dt)\n",
        "      X_lst=X_lst.at[:,i+1].set(newstate)\n",
        "      #What is being passed into simulate fcn's dynamics argument is an Dynamic class's instance object\n",
        "      #eg: discrete_dynamics_euler. But because of the __call__ Dunder function, we can call this object's\n",
        "      #dynamics_func property which happens to be euler_integrate(continuous_dynamics, dt) and we must give it\n",
        "      #the inputs that Euler\n",
        "    return X_lst\n",
        "\n",
        "\n",
        "# code to loop over the different integrators and step sizes\n",
        "# and plot the corresponding trajectories\n",
        "\n",
        "initial_state = jnp.array([0.0, 0.0, 0.0, 0.0])\n",
        "control = jnp.array([2.0, 1.0])  # constant control over the 5 second duration.\n",
        "duration = 5.0\n",
        "dts = [0.01, 0.5]\n",
        "\n",
        "for dt in dts:\n",
        "    num_steps = int(duration / dt)\n",
        "    controls = [control] * num_steps\n",
        "\n",
        "    # construct the discrete dynamics for given timestep\n",
        "    discrete_dynamics_euler = Dynamics(\n",
        "        euler_integrate(continuous_dynamics, dt), state_dim, control_dim\n",
        "    )\n",
        "    discrete_dynamics_rk = Dynamics(\n",
        "        runge_kutta_integrator(continuous_dynamics, dt), state_dim, control_dim\n",
        "    )\n",
        "\n",
        "    # simulate dynamics\n",
        "    xs_euler = simulate(discrete_dynamics_euler, initial_state, controls, dt)\n",
        "    xs_rk = simulate(discrete_dynamics_rk, initial_state, controls, dt)\n",
        "\n",
        "    # plot the trajectories\n",
        "    plt.plot(xs_euler[:, 0], xs_euler[:, 1], label=f\"dt = {dt} Euler\")\n",
        "    plt.plot(xs_rk[:, 0], xs_rk[:, 1], label=f\"dt = {dt} RK\")\n",
        "    plt.legend()\n",
        "\n",
        "plt.grid(alpha=0.4)\n",
        "plt.axis(\"equal\")\n",
        "plt.xlabel(\"x [m]\")\n",
        "plt.ylabel(\"y [m]\")\n"
      ]
    },
    {
      "cell_type": "markdown",
      "metadata": {
        "id": "qcMpEFVKArKF"
      },
      "source": [
        "### (d) `jax.vmap`\n",
        "Suppose now that you want to simulate *many* trajectories. Rather than wrapping the `simulate` function in a for loop, we can use `jax.vmap` which is a *vectorize map* function, allowing us to apply a function, in this case `simulate` over multiple inputs.\n",
        "\n",
        "An example usage of how to use the `jax.vmap` is shown below. Notice that we can specify which argument should be vectorized and along which dimension."
      ]
    },
    {
      "cell_type": "code",
      "execution_count": 26,
      "metadata": {
        "colab": {
          "base_uri": "https://localhost:8080/"
        },
        "id": "NsYGsqm9ArKF",
        "outputId": "ceb5c088-c55d-4ef6-ad62-248935ea8880"
      },
      "outputs": [
        {
          "output_type": "execute_result",
          "data": {
            "text/plain": [
              "Array([[-2.398186  ,  1.186811  , -0.44330356, ...,  2.349769  ,\n",
              "        -0.09269291,  1.0749139 ],\n",
              "       [ 0.57172215,  1.5650027 , -3.1629052 , ..., -2.6900682 ,\n",
              "        -3.422889  , -0.87100214],\n",
              "       [-1.6849881 ,  0.6967223 ,  0.6875643 , ...,  2.710113  ,\n",
              "        -0.97053754, -2.2453759 ],\n",
              "       ...,\n",
              "       [-2.231443  , -0.09686492,  1.2694526 , ...,  1.3447114 ,\n",
              "        -0.60954094, -0.7454349 ],\n",
              "       [ 2.206372  ,  5.769564  ,  0.09838867, ...,  1.1014174 ,\n",
              "        -2.3591013 , -3.7624488 ],\n",
              "       [ 0.63753104, -1.2120645 ,  1.8273714 , ...,  1.4463538 ,\n",
              "        -1.4756339 ,  0.4491626 ]], dtype=float32)"
            ]
          },
          "metadata": {},
          "execution_count": 26
        }
      ],
      "source": [
        "def foo(x, y, z):\n",
        "    return x + y + z\n",
        "\n",
        "N = 1000\n",
        "x = jnp.array(np.random.randn(N))\n",
        "y = jnp.array(np.random.randn(N))\n",
        "z = jnp.array(np.random.randn(N))\n",
        "\n",
        "xs = jnp.array(np.random.randn(N, N))\n",
        "ys = jnp.array(np.random.randn(N, N))\n",
        "zs = jnp.array(np.random.randn(N, N))\n",
        "\n",
        "foo(x, y, z)  # non-vectorized version\n",
        "# vectorized version for all inputs, 0 is the batch dimension for all inputs\n",
        "jax.vmap(foo, in_axes=[0, 0, 0])(xs, ys, zs)  #ie: every row is one batch\n",
        "\n",
        "# x not batched, but ys and zs are with 0 as the batch dimension\n",
        "jax.vmap(foo, in_axes=[None, 0, 0])(x, ys, zs)\n",
        "\n",
        "# y not batched, but xs and zs are with 0 as the batch dimension\n",
        "jax.vmap(foo, in_axes=[0, None, 0])(xs, y, zs)\n",
        "\n",
        "# z not batched, but xs and ys are with 0 as the batch dimension\n",
        "jax.vmap(foo, in_axes=[0, 0, None])(xs, ys, z)\n",
        "\n",
        "# x and y not batched, but zs is with 0 as the batch dimension\n",
        "jax.vmap(foo, in_axes=[None, None, 0])(x, y, zs)\n",
        "\n",
        "# vectorized version for all inputs, batch dimension for xs is 1,\n",
        "# while 0 is the batch dimension for yx and zs\n",
        "jax.vmap(foo, in_axes=[1, 0, 0])(xs, ys, zs)\n",
        "\n"
      ]
    },
    {
      "cell_type": "markdown",
      "metadata": {
        "id": "IEWcT9_MArKG"
      },
      "source": [
        "Apply `jax.vmap` for the simulate function for the following batch of initial states and control inputs\n",
        "Choose $\\Delta t = 0.1$.\n",
        "Use the following values and simulate multiple trajectories using the `jax.vmap` function.\n"
      ]
    },
    {
      "cell_type": "code",
      "execution_count": null,
      "metadata": {
        "colab": {
          "base_uri": "https://localhost:8080/"
        },
        "id": "elr3rHd0ArKG",
        "outputId": "a63c4dd2-dd2e-479c-e111-ff3f3d1ac677"
      },
      "outputs": [
        {
          "output_type": "stream",
          "name": "stderr",
          "text": [
            "Exception ignored in: <function _xla_gc_callback at 0x7f5297ed6fc0>\n",
            "Traceback (most recent call last):\n",
            "  File \"/usr/local/lib/python3.11/dist-packages/jax/_src/lib/__init__.py\", line 96, in _xla_gc_callback\n",
            "    def _xla_gc_callback(*args):\n",
            "    \n",
            "KeyboardInterrupt: \n",
            "Exception ignored in: <function _xla_gc_callback at 0x7f5297ed6fc0>\n",
            "Traceback (most recent call last):\n",
            "  File \"/usr/local/lib/python3.11/dist-packages/jax/_src/lib/__init__.py\", line 96, in _xla_gc_callback\n",
            "    def _xla_gc_callback(*args):\n",
            "    \n",
            "KeyboardInterrupt: \n",
            "Exception ignored in: <function _xla_gc_callback at 0x7f5297ed6fc0>\n",
            "Traceback (most recent call last):\n",
            "  File \"/usr/local/lib/python3.11/dist-packages/jax/_src/lib/__init__.py\", line 96, in _xla_gc_callback\n",
            "    def _xla_gc_callback(*args):\n",
            "    \n",
            "KeyboardInterrupt: \n"
          ]
        }
      ],
      "source": [
        "state_dim = continuous_dynamics.state_dim\n",
        "control_dim = continuous_dynamics.control_dim\n",
        "N = 1000\n",
        "n_time_steps = 50\n",
        "initial_states = jnp.array(np.random.randn(N, state_dim))\n",
        "controls = jnp.array(np.random.randn(N, n_time_steps, control_dim))\n",
        "dt= 0.1\n",
        "\n",
        "#trajs = initial_states[None,...] # update this line\n",
        "trajs_euler=jax.vmap(simulate, in_axes=[None, 0, 0, None])(discrete_dynamics_euler, initial_states, controls, dt)\n",
        "trajs_rk=jax.vmap(simulate, in_axes=[None, 0, 0, None])(discrete_dynamics_rk, initial_states, controls, dt)\n",
        "#checking the using np.shape(trajs) shows that trajs has 1000 rows.\n",
        "\n",
        "# plot to visualize all the trajectories\n",
        "for i in range(1000):\n",
        "    plt.plot(trajs_euler[i, 0,:], trajs_euler[i, 1,:], label=f\"dt = {dt} Euler\")\n",
        "    plt.plot(trajs_rk[i, 0,:], trajs_rk[i, 1,:], label=f\"dt = {dt} RK\")\n",
        "    plt.legend()\n",
        "\n",
        "plt.grid(alpha=0.4)\n",
        "plt.axis(\"equal\")\n",
        "plt.xlabel(\"x [m]\")\n",
        "plt.ylabel(\"y [m]\")\n",
        "\n",
        "\n",
        "\n"
      ]
    },
    {
      "cell_type": "markdown",
      "metadata": {
        "id": "L98UQpy1ArKG"
      },
      "source": [
        "### (e) `jax.jit` (optional reading)\n",
        "\n",
        "Bleh! You notice that it takes some time to run it. And if you increased the duration or number of trajectories to simulate, the computation would increase.\n",
        "If only we could compile the code to help reduce computation time. With JAX, you can! We can use the `jax.jit` function that performs just-in-time compilation. JAX will figure out the expected sizes of the input arrays and allocate memory based on that.\n",
        "\n",
        "There are number of ways to just `jax.jit`, and it can get a bit tricky as your code becomes more complex. Best to read up the JAX documentation for more information.\n",
        "But for relatively simple functions, you can usually just apply `jax.jit` without any fuss, and get significant speedup in your code."
      ]
    },
    {
      "cell_type": "markdown",
      "metadata": {
        "id": "krsFl-J1ArKG"
      },
      "source": [
        "Uncomment the following cells to see the computational benefits of `jax.jit`."
      ]
    },
    {
      "cell_type": "code",
      "execution_count": null,
      "metadata": {
        "id": "Q_8lS5j3ArKG"
      },
      "outputs": [],
      "source": [
        "# # without jitting\n",
        "# %timeit jax.vmap(simulate, in_axes=[None, 0, 0, None])(discrete_dynamics_rk, initial_states, controls, jnp.array(dt)).block_until_ready()"
      ]
    },
    {
      "cell_type": "code",
      "execution_count": null,
      "metadata": {
        "id": "OnHNZcuuArKH"
      },
      "outputs": [],
      "source": [
        "# # method 1: directly apply jax.jit over the jax.vmap function\n",
        "# # need to provide the static_argnums argument to the first argument since that is a function input and not an array input\n",
        "# sim_jit = jax.jit(jax.vmap(simulate, in_axes=[None, 0, 0, None]), static_argnums=0)\n",
        "\n",
        "# # time the run\n",
        "# %timeit sim_jit(discrete_dynamics_rk, initial_states, controls, jnp.array(dt)).block_until_ready()"
      ]
    },
    {
      "cell_type": "code",
      "execution_count": null,
      "metadata": {
        "id": "ss8b1TUEArKH"
      },
      "outputs": [],
      "source": [
        "# # method 2: apply jax.jit over the simulate function and then apply jax.vmap\n",
        "# sim_jit = jax.jit(simulate, static_argnums=0)\n",
        "# sim_jit_vmap = jax.vmap(sim_jit, in_axes=[None, 0, 0, None])\n",
        "# %timeit sim_jit_vmap(discrete_dynamics_rk, initial_states, controls, jnp.array(dt)).block_until_ready()"
      ]
    },
    {
      "cell_type": "code",
      "execution_count": null,
      "metadata": {
        "id": "CcFGC3g4ArKH"
      },
      "outputs": [],
      "source": [
        "# # Method 3: apply jax.jit over the simulate function during function construction and then apply jax.vmap\n",
        "# @functools.partial(jax.jit, static_argnames=(\"dynamics\"))\n",
        "# def simulate(dynamics, initial_state, controls, dt):\n",
        "#     xs = [initial_state]\n",
        "#     time = 0\n",
        "#     for u in controls:\n",
        "#         xs.append(dynamics(xs[-1], u, time))\n",
        "#         time += dt\n",
        "#     return jnp.stack(xs)\n",
        "\n",
        "# sim_jit_vmap = jax.vmap(simulate, in_axes=[None, 0, 0, None])\n",
        "# %timeit sim_jit_vmap(discrete_dynamics_rk, initial_states, controls, jnp.array(dt)).block_until_ready()"
      ]
    },
    {
      "cell_type": "markdown",
      "metadata": {
        "id": "RwMNCrfYArKH"
      },
      "source": [
        "## Problem 2\n",
        "\n",
        "We continue to consider the dynamically-extended unicycle model and investigate a way to linearize the dynamics around any state.\n",
        "First, we will perform the linearization analytically, and then leverage modern computation tools which will be incredibly helpful especially if the dynamics are complicated!\n",
        "We can efficiently compute gradients via automatic differentiation.\n",
        "JAX is an automatic differentiation library."
      ]
    },
    {
      "cell_type": "markdown",
      "metadata": {
        "id": "U28wvZx0ArKH"
      },
      "source": [
        "### (a) Linearize dynamics analytically\n",
        "Linearize the dynamics given in Problem 1 part (a) about a point $(\\mathbf{x}_0, \\mathbf{u}_0)$. That is, for linearized dynamics of the form $\\dot{\\mathbf{x}} \\approx A\\mathbf{x}+ B\\mathbf{u} + C$, give expressions for $A$, $B$, and $C$."
      ]
    },
    {
      "cell_type": "markdown",
      "metadata": {
        "id": "Xt8LrmU1ArKH"
      },
      "source": [
        "$A=\\ldots$\n",
        "\n",
        "$B=\\ldots$\n",
        "\n",
        "$C=\\ldots$"
      ]
    },
    {
      "cell_type": "markdown",
      "metadata": {
        "id": "4zsje_N1ArKH"
      },
      "source": [
        "Also code up your analytic expression in `linearize_unicycle_continuous_time_analytic`."
      ]
    },
    {
      "cell_type": "code",
      "execution_count": null,
      "metadata": {
        "id": "f9tCIo5NArKI"
      },
      "outputs": [],
      "source": [
        "def linearize_unicycle_continuous_time_analytic(state, control, time):\n",
        "    '''\n",
        "    Linearizes the continuous time dynamics of the dynamic unicyle using analytic expression\n",
        "    Inputs:\n",
        "        state     : A jax.numpy array of size (n,)\n",
        "        control   : A jax.numpy array of size (m,)\n",
        "        time      : A real scalar\n",
        "\n",
        "    Outputs:\n",
        "        A : A jax.numpy array of size (n,n)\n",
        "        B : A jax.numpy array of size (n,m)\n",
        "        C : A jax.numpy array of size (n,1)\n",
        "    '''\n",
        "\n",
        "\n",
        "    '''\n",
        "    fill code here\n",
        "    '''\n",
        "    return jnp.zeros((4, 4)), jnp.zeros((4, 2)), jnp.zeros((4, 1)) # update this line\n",
        "\n"
      ]
    },
    {
      "cell_type": "markdown",
      "metadata": {
        "id": "thSU6LXqArKI"
      },
      "source": [
        "### (b) Evaluate linearized dynamics (analytic)\n",
        "Using your answer from 2(a), evaluate $A$, $B$, and $C$ for $\\mathbf{x}_0 = [0, 0, \\frac{\\pi}{4}, 2.]^T$ and $\\mathbf{u}_0 = [0.1, 1.]^T$. Give your answer to 2 decimal places."
      ]
    },
    {
      "cell_type": "code",
      "execution_count": null,
      "metadata": {
        "id": "xttzeC40ArKI"
      },
      "outputs": [],
      "source": [
        "# add your code here to test the function"
      ]
    },
    {
      "cell_type": "markdown",
      "metadata": {
        "id": "9c1cZJUbArKI"
      },
      "source": [
        "### (c) Linearize dynamics using JAX autodiff\n",
        "Time to test out Jax's autodifferentiation capabilities! JAX has an [Autodiff Cookbook](https://docs.jax.dev/en/latest/notebooks/autodiff_cookbook.html) that provides more details about the various autodiff functions, forward vs backward autodiff, jacboians, hessians, and so forth. You are strongly encouraged read through it.\n",
        "\n",
        "Using Jax and its built-in `jax.jacobian` function, fill in the `linearize_autodiff` function that takes in a dynamics function, and a state and control to linearize about, and returns the $A$, $B$, and $C$ matrices describing the linearized dynamics. Test your function using the continuous-time dynamics with $\\mathbf{x}_0 = [0.0, 0.0, \\frac{\\pi}{4}, 2.0]^T$ and $\\mathbf{u}_0 = [0.1, 1.0]^T$ and use the provided test code to verify that the outputs you get from your function are the same as the values you get from `linearize_unicycle_continuous_time_analytic`.\n",
        "\n",
        "Side note for the curious: the `jnp.allclose` function tests if all corresponding elements of two arrays are within a small tolerance of each other. When working with finite-precision machine arithmetic, you can almost never test two numbers for exact equality directly, because different rounding errors in different computations very often result in very slightly different values even when the two calculations should theoretically result in the same number. For this reason, real numbers in software (which on almost all modern hardware are represented in [IEEE 754 floating-point format](https://en.wikipedia.org/wiki/IEEE_754)) are usually considered to be equal if they are close enough that their difference could be reasonably explained by rounding errors."
      ]
    },
    {
      "cell_type": "code",
      "execution_count": null,
      "metadata": {
        "id": "fIxe1c-GArKI"
      },
      "outputs": [],
      "source": [
        "def linearize_autodiff(function_name, state, control, time):\n",
        "    '''\n",
        "    Linearizes the any dynamics using jax autodiff.\n",
        "    Inputs:\n",
        "        function_name: name of function to be linearized. Takes state, control, and time as inputs.\n",
        "        state     : A jax.numpy array of size (n,); the state to linearize about\n",
        "        control   : A jax.numpy array of size (m,); the control to linearize about\n",
        "        time      : A real scalar; the time to linearize about\n",
        "\n",
        "    Outputs:\n",
        "        A : A jax.numpy array of size (n,n)\n",
        "        B : A jax.numpy array of size (n,m)\n",
        "        C : A jax.numpy array of size (n,1)\n",
        "    '''\n",
        "\n",
        "    '''\n",
        "    fill code here\n",
        "    '''\n",
        "    return jnp.zeros((4, 4)), jnp.zeros((4, 2)), jnp.zeros((4, 1)) # update this line\n",
        ""
      ]
    },
    {
      "cell_type": "code",
      "execution_count": null,
      "metadata": {
        "id": "6sCb-dc5ArKI",
        "outputId": "e1e139c3-ff23-496b-9ca0-4b55ada7eca7"
      },
      "outputs": [
        {
          "name": "stdout",
          "output_type": "stream",
          "text": [
            "A matrices match: True\n",
            "B matrices match: True\n",
            "C matrices match: True\n"
          ]
        }
      ],
      "source": [
        "# test code:\n",
        "state = jnp.array([0.0, 0.0, jnp.pi/4, 2.])\n",
        "control = jnp.array([0.1, 1.])\n",
        "time = 0.\n",
        "\n",
        "A_autodiff, B_autodiff, C_autodiff = linearize_autodiff(continuous_dynamics, state, control, time)\n",
        "A_analytic, B_analytic, C_analytic = linearize_unicycle_continuous_time_analytic(state, control, time)\n",
        "\n",
        "print('A matrices match:', jnp.allclose(A_autodiff, A_analytic))\n",
        "print('B matrices match:', jnp.allclose(B_autodiff, B_analytic))\n",
        "print('C matrices match:', jnp.allclose(C_autodiff, C_analytic))"
      ]
    },
    {
      "cell_type": "markdown",
      "metadata": {
        "id": "NN5s8e5iArKJ"
      },
      "source": [
        "### (d) Linearize discrete-time dynamics\n",
        "Assuming your answer from 2(c) matched 2(b) and that you are convinced of the power of automatic differentiation, use your `linearize_autodiff` function on `discrete_dynamics_euler` and `discrete_dynamics_rk` with $\\mathbf{x}_0 = [0.0, 0.0, \\frac{\\pi}{4}, 2.0]^T$ and $\\mathbf{u}_0 = [0.1, 1.0]^T$. (Imagine trying to differentiate the expressions analytically! It would be tedious!)\n",
        "\n",
        "Let $\\Delta t=0.1$."
      ]
    },
    {
      "cell_type": "code",
      "execution_count": null,
      "metadata": {
        "id": "ldYZM7w-ArKJ"
      },
      "outputs": [],
      "source": [
        "# add your code here."
      ]
    },
    {
      "cell_type": "markdown",
      "metadata": {
        "id": "l5UcxlJTArKJ"
      },
      "source": [
        "### (e) Applying `vmap` to linearize over multiple points\n",
        "Now, try to linearize your dynamics over multiple state-control values using `vmap`!"
      ]
    },
    {
      "cell_type": "code",
      "execution_count": null,
      "metadata": {
        "id": "OBEWnB6SArKJ"
      },
      "outputs": [],
      "source": [
        "key = jax.random.PRNGKey(42)  # Set a fixed seed\n",
        "n_samples = 1000\n",
        "state_dim = 4  # 4-dimensional state\n",
        "ctrl_dim = 2  # 2-dimensional control\n",
        "\n",
        "time = 0.0\n",
        "random_states = jax.random.normal(key, shape=(n_samples, state_dim))\n",
        "random_controls = jax.random.normal(key, shape=(n_samples, ctrl_dim))\n",
        "\n",
        "# add your code here"
      ]
    },
    {
      "cell_type": "markdown",
      "metadata": {
        "id": "tSegURIJArKJ"
      },
      "source": [
        "## Problem 3 Unconstrained optimization\n",
        "The goal of this problem is to introduce some basic optimization theory and understanding how automatic differentition can be used for solving unconstrained optimization problems (and essentially powering deep learning libraries under the hood).\n",
        "\n",
        "In this problem, we will implement a simple version of the gradient descent algorithm to solve an unconstrained optimization problem. Specifically, you will learn about the log-barrier method which is used to cast a _constrained_ optimization problem into an unconstrained one which can be easily solved using gradient descent.\n"
      ]
    },
    {
      "cell_type": "markdown",
      "metadata": {
        "id": "EbSsf0yTArKJ"
      },
      "source": [
        "### Some background on optimization\n",
        "In mathematics, _optimization_ is the process of finding which value of an argument to a function makes the output of that function as high or as low as possible. In other words, given a function $f(x)$ (called the _cost function_ or _objective function_), which value of $x$ makes $f(x)$ as high (or as low) as possible?\n",
        "\n",
        "In controls, we often consider the objective as a *cost* function (e.g., total fuel or control effort, distance traveled) and thus aim to make $f(x)$ as _low_ as possible; in other words, we often only consider the problem of minimizing $f(x)$. While in reinforcement learning, typically the objective is viewed as a *reward*, and therefore the aim is to maximize $f(x)$. But note that this is just the same thing as minimizing $-f(x)$, so maximization and minimization actually turn out to be basically the same mathematical problem, but the convention depends on the community.\n",
        "\n",
        "Optimization is very useful in engineering; for example, if $x$ is a variable that somehow represents the design of an airplane (maybe it's a vector of design parameters such as wing aspect ratio, engine thrust, cargo space, etc), and if we can find a function $f(x)$ that computes the fuel consumption of the final airplane as a function of the design parameters, than finding $x$ which minimizes $f(x)$ amounts to designing the most fuel-efficient airplane possible under the design assumptions. We often denote the value of $x$ which optimizes $f(x)$ as $x^*$, and the optimal value of $f(x)$ is then $f(x^*)$.\n",
        "\n",
        "You may remember from undergrad calculus that we can minimize $f(x)$ by taking its derivative $f'(x)$, setting $f'(x^*) = 0$, and solving for $^*x$. If $f(x)$ is scalar-valued but has a vector-valued input, we would generalize this to taking the _gradient_ $\\nabla f(x)$, setting to zero, and solving for $x^*$. However, in many practical applications $\\nabla f(x)$ is far too complicated to solve $\\nabla f(x^*) = 0$ analytically; just think how complicated our fuel consumption function in the example above would be. Thus, in practice we often use iterative numerical optimization algorithms such as _gradient descent_.\n",
        "\n",
        "Gradient descent (for a scalar function of a single scalar argument) works as follows. First, assume some initial guess $x_0$. Then, iteratively improve successive guesses $x_k$ like so:\n",
        "\n",
        "$$\n",
        "x_{k+1} = x_k - \\alpha \\nabla f(x_k),\n",
        "$$\n",
        "\n",
        "where $\\alpha$ is some small positive fixed \"step size\" parameter which we choose. This has the effect of moving our successive guesses \"down the hill\" of the function $f(x)$. This process is repeated until successive iterates converge to some specified convergence tolerance $\\epsilon$:\n",
        "\n",
        "$$\n",
        "\\left\\lvert x_{k+1} - x_k \\right\\rvert < \\epsilon \\implies \\text{stop iterating.}\n",
        "$$\n",
        "\n",
        "The final $x$ iterate we take to be our optimal $x^*$.\n",
        "\n",
        "You may notice that your solution, or whether you may converge, depends on your choice of step size. There are techniques to choose and adapt the step size. We won't discuss this further in the course, but [ADAM](https://arxiv.org/abs/1412.6980) is a popular approach.\n",
        "\n"
      ]
    },
    {
      "cell_type": "markdown",
      "metadata": {
        "id": "nE9133iUArKJ"
      },
      "source": [
        "### (a) Gradient descent on unconstrained optimization problem\n",
        "Consider the objective function $f(x) = (x + 2)^2 + 5\\tanh (x)$, defined in code and plotted below. The value of $x$ which minimizes $f(x)$ is $x^* = -2.13578$, and $f(x^*) = -4.84389$. In the next code cell, fill out the `minimize_with_gradient_descent` function; you can use Jax's autodiff capabilities to compute $f'(x)$. The starter code in that cell will use your gradient descent function with an initial guess of $x = 5$, a step size of $0.1$, and a convergence tolerance of $10^{-8}$ to minimize $f(x)$; verify that your algorithm does indeed find the correct minimizing $x^*$ and minimal value $f(x^*)$.\n",
        "\n",
        "Fun fact: with $f(x) = (x + 2)^2 + 5\\tanh (x)$, then $f'(x)$ is a transcendental function, and $f'(x) = 0$ _can't_ be solved algebraically. If your gradient descent code worked, congratulations! You've written code that numerically solved a math problem in milliseconds that can't be solved analytically at all."
      ]
    },
    {
      "cell_type": "code",
      "execution_count": null,
      "metadata": {
        "id": "qmroeO9QArKT",
        "outputId": "b73a4e80-ba1f-44cc-f717-cb01e5f4b855"
      },
      "outputs": [
        {
          "data": {
            "image/png": "[encoded data removed]",
            "text/plain": [
              "<Figure size 800x600 with 1 Axes>"
            ]
          },
          "metadata": {},
          "output_type": "display_data"
        }
      ],
      "source": [
        "def f(x):\n",
        "    return (x + 2)**2 + 5*jnp.tanh(x)\n",
        "\n",
        "args = np.arange(-6,4,0.01)\n",
        "plt.figure(figsize=(8,6))\n",
        "plt.plot(args, f(args))\n",
        "plt.xlabel('x')\n",
        "plt.ylabel('f(x)')\n",
        "plt.title('Objective function')\n",
        "plt.grid(alpha=0.3)\n",
        "plt.show()"
      ]
    },
    {
      "cell_type": "code",
      "execution_count": null,
      "metadata": {
        "id": "NyS38Xn-ArKU",
        "outputId": "441c33e4-be39-44bb-c66d-03f941320eab"
      },
      "outputs": [
        {
          "name": "stdout",
          "output_type": "stream",
          "text": [
            "optimal x: 5.0\n",
            "optimal value of f(x): 53.999546\n"
          ]
        },
        {
          "data": {
            "image/png": "[encoded data removed]",
            "text/plain": [
              "<Figure size 800x600 with 1 Axes>"
            ]
          },
          "metadata": {},
          "output_type": "display_data"
        }
      ],
      "source": [
        "def minimize_with_gradient_descent(func, initial_guess, step_size, convergence_tol=1e-8):\n",
        "    '''\n",
        "    Minimizes a scalar function of a single variable.\n",
        "    Inputs:\n",
        "        func              : name of function to be optimized. Takes initial_guess as input.\n",
        "        initial_guess     : a real number\n",
        "        convergence_tol   : convergence tolerace; when current and next guesses of of optimal x are closer\n",
        "                            together than this, algorithm terminates and returns current estimate of optimal x\n",
        "\n",
        "    Outputs:\n",
        "        cur_x : current best estimate of x which minimizes f(x)\n",
        "    '''\n",
        "\n",
        "    '''\n",
        "    fill code here\n",
        "    '''\n",
        "\n",
        "    return initial_guess # update this line\n",
        "\n",
        "\n",
        "\n",
        "x_opt = minimize_with_gradient_descent(f, 5.0, 0.1)\n",
        "\n",
        "\n",
        "# output and plot:\n",
        "print('optimal x:', x_opt)\n",
        "print('optimal value of f(x):', f(x_opt))\n",
        "\n",
        "args = np.arange(-6,4,0.01)\n",
        "plt.figure(figsize=(8,6))\n",
        "plt.plot(args, f(args), label='f(x)')\n",
        "plt.scatter(x_opt, f(x_opt), zorder=2, color='red', label='optimal point')\n",
        "plt.title('x_opt = {:.4f}, f(x_opt) = {:.4f}'.format(x_opt, f(x_opt)))\n",
        "plt.grid(alpha=0.3)\n",
        "plt.xlabel('x')\n",
        "plt.ylabel('f(x)')\n",
        "plt.legend()\n",
        "plt.show()\n"
      ]
    },
    {
      "cell_type": "markdown",
      "metadata": {
        "id": "w3NmrR_nArKU"
      },
      "source": [
        "### (b) Applying log-barrier for solving constrained optimization problems\n",
        "Now suppose we want to add a _constraint_ to our optimization problem; that is, a restriction on the set of $x$ values we'll consider acceptable. In particular, in this case we'll say that we only want values of $x$ such that, for some specified _constraint function_ $g(x)$, we have $g(x) < 0$; this is called an _inequality constraint_.\n",
        "\n",
        "The gradient descent algorithm described above has no way to enforce a constraint like this; $x$ is allowed to wander wherever the gradient takes it. Thus we must modify the algorithm to allow it to find constrained optima under inequality constraints. There are several ways to do this, but in this problem we will be using the _log-barrier method_.\n",
        "\n",
        "In this method, we construct from the objective function $f(x)$ a different objective function $\\phi (x)$ that has the following properties:\n",
        " - When $x$ is such that $g(x)$ is far away from $0$, then $\\phi(x)$ must approximate $f(x)$, so that minimizing $\\phi(x)$ approximately minimizes $f(x)$.\n",
        " - $\\phi(x)$ must grow to infinity as $g(x)$ approaces $0$. This will prevent $x$ from crossing over the boundary of $g(x) < 0$.\n",
        "\n",
        "To accomplish these goals, we construct $\\phi(x)$ like so:\n",
        "$$\n",
        "\\phi(x) = f(x) - t\\ln(-g(x)),\n",
        "$$\n",
        "where $t$ is a weighting parameter that we choose.\n",
        "\n",
        "Suppose we want to minimize the same objective function as before, $f(x) = (x + 2)^2 + 5\\tanh (x)$, but now we want a constraint $x > 1$. In the code block below, fill out the functions `g` and `phi`. The starter code will plot $f(x)$, as well as $\\phi(x)$ for $t = 0.5,\\ 2,\\ 5$. Comment on how $\\phi(x)$ changes with changing $t$. Note that since $\\ln(y)$ is not defined (in the real numbers) for $y \\le 0$, the domain of $\\phi(x)$ is restricted to $x > 1$.\n",
        "\n",
        "Hint: for your `phi` function to work well with the next parts of this problem, be sure to use `jnp.log` instead of `np.log`."
      ]
    },
    {
      "cell_type": "code",
      "execution_count": null,
      "metadata": {
        "id": "iBUq4HlRArKU",
        "outputId": "d672d5d8-2c22-4217-c097-f8a1e0b478d0"
      },
      "outputs": [
        {
          "data": {
            "image/png": "[encoded data removed]",
            "text/plain": [
              "<Figure size 800x600 with 1 Axes>"
            ]
          },
          "metadata": {},
          "output_type": "display_data"
        }
      ],
      "source": [
        "# fill out g(x) so that the statement g(x) < 0 is equivalent to the statement x > 1\n",
        "def g(x):\n",
        "    return 1 - x\n",
        "\n",
        "def phi(f, x, g, t):\n",
        "    '''\n",
        "    Computes phi(x).\n",
        "    Inputs:\n",
        "        f  : name of f(x) function; takes x as input\n",
        "        x  : variable to be optimized\n",
        "        g  : constraint function; we want to ensure g(x) <= 0\n",
        "        t  : log-barrier weighting parameter\n",
        "\n",
        "    Outputs:\n",
        "        phi(x)\n",
        "    '''\n",
        "\n",
        "    '''\n",
        "    fill code here\n",
        "    '''\n",
        "\n",
        "    return f(x) # update this line\n",
        "\n",
        "x_upper = 4\n",
        "dx = 0.01\n",
        "f_x_domain = np.arange(-6, x_upper, dx)\n",
        "phi_x_domain = np.arange(1.00001, x_upper, dx)\n",
        "\n",
        "plt.figure(figsize=(8,6))\n",
        "plt.plot(f_x_domain, f(f_x_domain), label='f(x)')\n",
        "plt.plot(phi_x_domain, phi(f, phi_x_domain, g, 5), label='phi(x), t = 5')\n",
        "plt.plot(phi_x_domain, phi(f, phi_x_domain, g, 2), label='phi(x), t = 2')\n",
        "plt.plot(phi_x_domain, phi(f, phi_x_domain, g, 0.5), label='phi(x), t = 0.5')\n",
        "plt.vlines(1, -10, 40, linestyles='dashed', label='x = 1', color='black')\n",
        "plt.xlabel('x')\n",
        "plt.grid(alpha=0.3)\n",
        "plt.ylabel('f(x), phi(x)')\n",
        "plt.title('f(x) and phi(x) vs x')\n",
        "plt.legend(loc='upper left')\n",
        "# plt.ylim(-10, 40)\n",
        "plt.show()\n"
      ]
    },
    {
      "cell_type": "markdown",
      "metadata": {
        "id": "U-LtxeRTArKU"
      },
      "source": [
        "### (c)\n",
        "Now, we can use our `minimize_with_gradient_descent` function to minimize $\\phi(x)$ instead of $f(x)$. Do so below, for a few different values of $t$, and comment on the results. The true constrained optimal point is $x^* = 1$, $f(x^*) = 12.808$.\n",
        "\n",
        "- Does the log-barrier method find the true constrained optimal point?\n",
        "- How does the point found by the log-barrier method change as you change $t$?\n",
        "\n",
        "You may find that as you decrease $t$, you also need to decrease the gradient descent step size to get good behavior (in particular, to avoid \"overshooting\" the constraint and finding an $x^*$ estimate which does not respect the constraint). Also, for the log-barrier method to work, your initial guess must itself respect the constraint (in this case, your initial guess must be greater than one).\n",
        "\n",
        "Hint: the `minimize_with_gradient_descent` function requires an objective function that takes only $x$ as an argument: $f(x)$. But our `phi` Python function defined above takes `f`, `x`, `g`, and `t`; you may find Python's \"lambda function\" capabilities useful or the `functools.partial`."
      ]
    },
    {
      "cell_type": "code",
      "execution_count": null,
      "metadata": {
        "id": "m2hnNlAtArKV",
        "outputId": "6362c2fe-e56b-4947-aef0-37586fe4adda"
      },
      "outputs": [
        {
          "data": {
            "text/plain": [
              "152"
            ]
          },
          "execution_count": 68,
          "metadata": {},
          "output_type": "execute_result"
        }
      ],
      "source": [
        "# ========================== hint: lambdas ==============================\n",
        "\n",
        "def hint_func(arg1, arg2, arg3):\n",
        "    return arg1 + 2 * arg2 + arg3\n",
        "\n",
        "def hint_func_caller(func, arg):\n",
        "    return func(arg)\n",
        "\n",
        "foo = 42\n",
        "bar = 100\n",
        "\n",
        "lambda x: hint_func(foo, x, bar) # this essentially defines a function of x only, that calls hint_func(x, 42, 100)\n",
        "\n",
        "# hint_func_caller expects a function that takes only one argument. But we can use a lambda expression to\n",
        "# \"prepopulate\" all but one argument of hint_func, \"turning it into\" an argument of one function:\n",
        "\n",
        "hint_func_caller(lambda x: hint_func(foo, x, bar), 5) # this will work and give 152\n",
        "\n",
        "# ^^^^^^^^^^^^^^^^^^^^^^^^^^ hint: lambdas ^^^^^^^^^^^^^^^^^^^^^^^^^^\n",
        "\n",
        "# ========================== hint: functools.partial ==============================\n",
        "\n",
        "new_func = functools.partial(hint_func, foo, arg3=bar) # this is equivalent to lambda x: hint_func(foo, x, bar)\n",
        "new_func(5) # this will give 152\n",
        "\n",
        "# OR\n",
        "\n",
        "new_func = functools.partial(hint_func, arg1=foo, arg3=bar) # this is equivalent to lambda x: hint_func(foo, x, bar)\n",
        "new_func(arg2=5) # this will give 152\n",
        "\n",
        "# ^^^^^^^^^^^^^^^^^^^^^^^^^^ hint: functools.partial ^^^^^^^^^^^^^^^^^^^^^^^^^^\n",
        "\n",
        "\n",
        "\n",
        "\n",
        "# add you code here\n",
        "\n",
        "\n"
      ]
    },
    {
      "cell_type": "markdown",
      "metadata": {
        "id": "ukHw3zVTArKV"
      },
      "source": [
        "## Problem 4 (`cvxpy`)\n",
        "\n",
        "In this problem we will explore the basics of `cvxpy`, a Python package for solving convex optimization problems. `cvxpy` has a good tutorial [here](https://www.cvxpy.org/tutorial/intro/index.html), so read that page before proceeding with this problem (the section on \"parameters\", while useful, is not important for this homework, so consider that section optional for now)."
      ]
    },
    {
      "cell_type": "markdown",
      "metadata": {
        "id": "XTWnYahdArKV"
      },
      "source": [
        "\n",
        "Consider a vector variable $x = [x_1,  x_2,  x_3]^T$. Use `cvxpy` to compute the minimizer of the following objective function\n",
        "$$\n",
        "x_1^2 + 2x_2^2 + 3.5x_3^2,\n",
        "$$\n",
        "\n",
        "subject to the constraint\n",
        "\n",
        "$$\n",
        "\\begin{bmatrix}\n",
        "0.707 & 0.707 & 0 \\\\\n",
        "-1 & 0 & 0 \\\\\n",
        "0 & -1 & 0 \\\\\n",
        "0 & 0 & -1\n",
        "\\end{bmatrix}x \\le \\begin{bmatrix}\n",
        "2 \\\\\n",
        "-1 \\\\\n",
        "-1 \\\\\n",
        "-3\n",
        "\\end{bmatrix}.\n",
        "$$\n",
        "\n",
        "Print the optimal $x$ and the optimal value of the objective function.\n",
        "\n",
        "Notice how much easier it is to use `cvxpy` than to write our own optimization algorithm from scratch!"
      ]
    },
    {
      "cell_type": "code",
      "execution_count": null,
      "metadata": {
        "id": "34wArKT7ArKV"
      },
      "outputs": [],
      "source": [
        "# add you code here"
      ]
    },
    {
      "cell_type": "markdown",
      "metadata": {
        "id": "HvZrLDObArKV"
      },
      "source": [
        "## Problem 5 (Control Barrier Function and CBF-QP)\n",
        "\n",
        "In this problem, using the concepts and code you have developed in the previous problems, you will implement a CBF-QP safety filter.\n",
        "We will restrict ourselves to a simple 1D system so that you can verify your results analytically if needed, but note that the theory extends to higher dimensional problems, and try to keep your code general so that it could still work on a different system and choice of CBF."
      ]
    },
    {
      "cell_type": "markdown",
      "metadata": {
        "id": "weUG1qlwArKW"
      },
      "source": [
        "Consider the following 1D single integator dynamics $ \\dot{x} = u $ and let $b(x) = x^2 - 1$."
      ]
    },
    {
      "cell_type": "markdown",
      "metadata": {
        "id": "VtL-T7tKArKW"
      },
      "source": [
        "### (a) Computing the Lie derivative\n",
        "What is the expression for $\\nabla b(x)^T f(x,u)$?"
      ]
    },
    {
      "cell_type": "markdown",
      "metadata": {
        "id": "yVpy1yIJArKW"
      },
      "source": [
        "$\\nabla b(x) = \\ldots$\n",
        "\n",
        "$f(x,u) = \\ldots$\n",
        "\n",
        "$\\nabla b(x)^Tf(x,u) = \\ldots$"
      ]
    },
    {
      "cell_type": "markdown",
      "metadata": {
        "id": "vy17ISO_ArKW"
      },
      "source": [
        "### (b) Solving the CBF-QP\n",
        "Suppose that your desired control is $u_\\mathrm{des}=0.5$, which is to move in the positive $x$-direction at constant velocity. But the safety filter enforces that $x^2 \\geq 1$, i.e., keep a 1 unit away from the origin.\n",
        "\n",
        "The CBF safety filter essentially chooses a control input that is as close to $u_\\mathrm{des}$ as possible while satisfying the CBF inequality constraint.\n",
        "\n",
        "$$\n",
        "u_\\mathrm{safe}(x) = \\underset{u}{\\text{argmin}} \\| u - u_\\mathrm{des}\\|_2^2 \\:\\: \\text{subj. to} \\:\\: \\nabla b(x)^Tf(x,u) \\geq -\\alpha(b(x))\n",
        "$$\n",
        "\n",
        "This is referred to as the CBF-QP since it is a quadratic program (quadratic objective and linear constraints). For simplicity, we assume there are no other constraints on controls.\n",
        "\n",
        "Let $\\alpha(z) = az$, $a=0.5$\n",
        "Use `cvxpy` to solve the CBF-QP for $x=-3$, $x=-2$ and $x=-1.1$.\n",
        "\n",
        "Report the corresponding safe control values.\n",
        "\n",
        "Hint: You may find the `Parameter` variable in `cvxpy` helpful. It allows you to update certain parameters without needing to reconstruct the optimization each time.\n",
        "\n",
        "\n"
      ]
    },
    {
      "cell_type": "code",
      "execution_count": null,
      "metadata": {
        "id": "D8FINPEfArKW"
      },
      "outputs": [],
      "source": [
        "# add you code here\n"
      ]
    },
    {
      "cell_type": "markdown",
      "metadata": {
        "id": "ueOm3WfVArKW"
      },
      "source": [
        "### (c) Applying the CBF safety filter\n",
        "Now, simulate the system starting from $x=-5$ and with $u_\\mathrm{des}=0.5$, but the CBF safety filter is applied. Plot the state and control sequence for $a=2$, $a=1$, $a=0.5$ and $a=0.1$ where $\\alpha(z) = az$.\n",
        "Comment on how the trajectory changes as $a$ changes. What is your interpretation of $a$?\n",
        "\n",
        "Use $\\Delta t = 0.05$ and simulate for 500 steps.\n",
        "\n",
        "Note that the CBF theory is for continuous-time dynamics, but when we simulate, we use discrete-time dynamics. There are some practical issues that we need to be careful about (see [this paper](https://arxiv.org/abs/2404.12329) for more details), but right now, let's stick to using a reasonably small time step.\n",
        "\n"
      ]
    },
    {
      "cell_type": "code",
      "execution_count": null,
      "metadata": {
        "id": "OhmqZ1gwArKW"
      },
      "outputs": [],
      "source": [
        "# add you code here\n",
        "\n",
        "# define continuous-time dynamics\n",
        "# construct discrete-time dynamics\n",
        "# simulate system, during which the CBF-QP safety filter is applied.\n",
        "# loop over various values of a.\n",
        "\n",
        "\n",
        "\n"
      ]
    }
  ],
  "metadata": {
    "kernelspec": {
      "display_name": "aa548",
      "language": "python",
      "name": "python3"
    },
    "language_info": {
      "codemirror_mode": {
        "name": "ipython",
        "version": 3
      },
      "file_extension": ".py",
      "mimetype": "text/x-python",
      "name": "python",
      "nbconvert_exporter": "python",
      "pygments_lexer": "ipython3",
      "version": "3.13.2"
    },
    "colab": {
      "provenance": []
    }
  },
  "nbformat": 4,
  "nbformat_minor": 0
}